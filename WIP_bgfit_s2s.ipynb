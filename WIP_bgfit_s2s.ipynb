{
 "cells": [
  {
   "cell_type": "code",
   "execution_count": 1,
   "metadata": {},
   "outputs": [],
   "source": [
    "import numpy as np\n",
    "from scipy import stats\n",
    "from scipy.interpolate import interp1d\n",
    "import matplotlib.pyplot as plt\n",
    "%matplotlib inline\n",
    "from scipy.optimize import curve_fit\n",
    "from sklearn import preprocessing"
   ]
  },
  {
   "cell_type": "code",
   "execution_count": 9,
   "metadata": {},
   "outputs": [],
   "source": [
    "nbins = 60"
   ]
  },
  {
   "cell_type": "code",
   "execution_count": 2,
   "metadata": {},
   "outputs": [],
   "source": [
    "def inverse_sample_decorator(dist):\n",
    "    def wrapper(pnts, x_min, x_max, nbins, n=1e5, **kwargs):\n",
    "        x = np.linspace(x_min, x_max, int(n))\n",
    "        cumulative = np.cumsum(dist(x, **kwargs))\n",
    "        r_x = x * (13**0.5)\n",
    "        #print(x.min(),x.max())\n",
    "        scaler = preprocessing.MinMaxScaler(feature_range=(0,1))\n",
    "        cumulative = scaler.fit_transform(cumulative.reshape(-1, 1))\n",
    "        cumulative = cumulative.reshape(int(n))\n",
    "        #plt.scatter(r_x, cumulative, label=\"CDF\")\n",
    "        cdf = interp1d(r_x, cumulative)\n",
    "        bins = np.linspace(1,7,nbins+1)\n",
    "        #print(bins)\n",
    "        cdf_bins = cdf(bins)[1:] - cdf(bins)[:-1]\n",
    "        #plt.scatter(cumulative, r_x, label=\"iCDF\")\n",
    "        #plt.legend()\n",
    "        plt.show()\n",
    "        real_low = (cumulative).min()\n",
    "        real_high = (cumulative).max()\n",
    "        #print((cumulative/cumulative.max()).max(),(cumulative/cumulative.max()).min())\n",
    "        ff = interp1d(cumulative, x)\n",
    "        return ff(np.random.uniform(low=real_low, high=real_high, size=pnts)), cdf_bins \n",
    "    return wrapper"
   ]
  },
  {
   "cell_type": "code",
   "execution_count": 3,
   "metadata": {},
   "outputs": [],
   "source": [
    "# Experimenting with Eq2\n",
    "@inverse_sample_decorator\n",
    "def f(x,ts=[1.1,1.2,1.3,1.4],nbins=60):\n",
    "    xx = x/(13)**0.5\n",
    "    v = ts[0] * ((1-xx)**(ts[1])) * (xx**ts[2]) * (xx**(ts[3]*np.log(xx)))\n",
    "    return v"
   ]
  },
  {
   "cell_type": "code",
   "execution_count": 4,
   "metadata": {},
   "outputs": [
    {
     "data": {
      "image/png": "[encoded data removed]",
      "text/plain": [
       "<Figure size 432x288 with 1 Axes>"
      ]
     },
     "metadata": {
      "needs_background": "light"
     },
     "output_type": "display_data"
    }
   ],
   "source": [
    "samples, truep = f(500000,ts=[1.1,1.2,1.3,1.4],nbins=60,x_min=1/(13**0.5),x_max=7/(13**0.5))\n",
    "#samples *= (13**0.5)\n",
    "\n",
    "plt.hist(samples, log=True)\n",
    "#plt.scatter(np.linspace(1,7,60),truep)\n",
    "plt.show()"
   ]
  },
  {
   "cell_type": "code",
   "execution_count": 5,
   "metadata": {},
   "outputs": [],
   "source": [
    "def data_gen(pmin, pmax, na, nb, f, nbins=60, scaled=False):\n",
    "    init = True\n",
    "    for i in range(nb):\n",
    "        samples, y = f(na,ts=np.random.uniform(low=pmin,high=pmax,size=4), nbins=60,\n",
    "                                            x_min=1/(13**0.5),x_max=7/(13**0.5))\n",
    "        samples *= (13**0.5)\n",
    "        \n",
    "        plt.style.use(\"dark_background\")\n",
    "        #(n, bins, patches) = plt.hist(samples, log=True, bins=nbins, \n",
    "        #                                 label=\"data\", histtype=\"step\")\n",
    "        n, bins = np.histogram(samples, bins=nbins)\n",
    "        #plt.scatter(binss[:nbins],n)\n",
    "            \n",
    "        if scaled:\n",
    "            scaler = preprocessing.MinMaxScaler(feature_range=(0,1))\n",
    "            n = scaler.fit_transform(n.reshape(-1, 1))\n",
    "            n = n.reshape(nbins)\n",
    "            \n",
    "        if init:\n",
    "            X = np.array(n)\n",
    "            Y = np.array(y)\n",
    "            binsc = 0.5*(bins[1:] + bins[:-1]) \n",
    "            init = False\n",
    "\n",
    "        else:\n",
    "            X = np.vstack((X,n))\n",
    "            Y = np.vstack((Y,y))\n",
    "            \n",
    "    plt.show()\n",
    "    return X,Y,binsc"
   ]
  },
  {
   "cell_type": "code",
   "execution_count": 10,
   "metadata": {},
   "outputs": [
    {
     "name": "stdout",
     "output_type": "stream",
     "text": [
      "(10000, 60, 1) (10000, 60, 1)\n"
     ]
    }
   ],
   "source": [
    "GEN = False\n",
    "import h5py\n",
    "if GEN:\n",
    "    X,Y,binsc= data_gen(1.2,1.8,100000,10000,f,scaled=True)\n",
    "    X = X.reshape(X.shape[0], X.shape[1], 1)\n",
    "    Y = Y.reshape(Y.shape[0], Y.shape[1], 1)\n",
    "\n",
    "    hf = h5py.File(\"bg-parametric.h5\",\"w\")\n",
    "    hf.create_dataset(\"sample\", data=X)\n",
    "    hf.create_dataset(\"bin prob\", data=Y)\n",
    "    hf.close()\n",
    "else:\n",
    "    hf = h5py.File(\"bg-parametric.h5\",\"r\")\n",
    "    X = np.array(hf.get(\"sample\"))\n",
    "    Y = np.array(hf.get(\"bin prob\"))\n",
    "    \n",
    "    bins = np.linspace(1,7,nbins+1)\n",
    "    binsc = 0.5*(bins[1:] + bins[:-1]) \n",
    "    \n",
    "print(X.shape, Y.shape)"
   ]
  },
  {
   "cell_type": "code",
   "execution_count": null,
   "metadata": {},
   "outputs": [],
   "source": []
  },
  {
   "cell_type": "code",
   "execution_count": 12,
   "metadata": {},
   "outputs": [
    {
     "data": {
      "image/png": "[encoded data removed]",
      "text/plain": [
       "<Figure size 432x288 with 1 Axes>"
      ]
     },
     "metadata": {},
     "output_type": "display_data"
    }
   ],
   "source": [
    "plt.style.use(\"dark_background\")\n",
    "plt.grid()\n",
    "plt.yscale(\"log\")\n",
    "plt.scatter(binsc,X[1,:], s=6, label=\"sample\")\n",
    "plt.scatter(binsc,Y[1,:], s=6, label=\"bin prob\")\n",
    "plt.legend()\n",
    "plt.show()"
   ]
  },
  {
   "cell_type": "code",
   "execution_count": 13,
   "metadata": {},
   "outputs": [],
   "source": [
    "import tensorflow.keras as keras\n",
    "import tensorflow as tf"
   ]
  },
  {
   "cell_type": "code",
   "execution_count": 14,
   "metadata": {},
   "outputs": [],
   "source": [
    "# Try LSTM s2s\n",
    "batch_size = 64  # Batch size for training.\n",
    "epochs = 100  # Number of epochs to train for.\n",
    "latent_dim = 256  # Latent dimensionality of the encoding space.\n",
    "num_samples = 10000  # Number of samples to train on."
   ]
  },
  {
   "cell_type": "code",
   "execution_count": 15,
   "metadata": {},
   "outputs": [],
   "source": [
    "Y_shifted = np.roll(Y,1)"
   ]
  },
  {
   "cell_type": "code",
   "execution_count": 16,
   "metadata": {},
   "outputs": [],
   "source": [
    "# Define an input sequence and process it.\n",
    "encoder_inputs = keras.Input(shape=(None, 1))\n",
    "encoder = keras.layers.LSTM(latent_dim, return_state=True)\n",
    "encoder_outputs, state_h, state_c = encoder(encoder_inputs)\n",
    "\n",
    "# We discard `encoder_outputs` and only keep the states.\n",
    "encoder_states = [state_h, state_c]\n",
    "\n",
    "# Set up the decoder, using `encoder_states` as initial state.\n",
    "decoder_inputs = keras.Input(shape=(None, 1))\n",
    "\n",
    "# We set up our decoder to return full output sequences,\n",
    "# and to return internal states as well. We don't use the\n",
    "# return states in the training model, but we will use them in inference.\n",
    "decoder_lstm = keras.layers.LSTM(latent_dim, return_sequences=True, return_state=True)\n",
    "decoder_outputs, _, _ = decoder_lstm(decoder_inputs, initial_state=encoder_states)\n",
    "decoder_dense = keras.layers.Dense(1, activation=\"linear\")\n",
    "decoder_outputs = decoder_dense(decoder_outputs)\n",
    "\n",
    "# Define the model that will turn\n",
    "# `encoder_input_data` & `decoder_input_data` into `decoder_target_data`\n",
    "model = keras.Model([encoder_inputs, decoder_inputs], decoder_outputs)"
   ]
  },
  {
   "cell_type": "code",
   "execution_count": 17,
   "metadata": {},
   "outputs": [],
   "source": [
    "callbacks = [keras.callbacks.EarlyStopping(monitor='val_loss', min_delta=0, \n",
    "                                           patience=25, verbose=0,\n",
    "                                           mode='auto', baseline=None,\n",
    "                                           restore_best_weights=True)]"
   ]
  },
  {
   "cell_type": "code",
   "execution_count": 18,
   "metadata": {
    "scrolled": true
   },
   "outputs": [
    {
     "name": "stdout",
     "output_type": "stream",
     "text": [
      "Epoch 1/100\n",
      "125/125 [==============================] - 2s 14ms/step - loss: 3.1270e-04 - val_loss: 6.9011e-05\n",
      "Epoch 2/100\n",
      "125/125 [==============================] - 1s 9ms/step - loss: 6.7894e-05 - val_loss: 6.6975e-05\n",
      "Epoch 3/100\n",
      "125/125 [==============================] - 1s 9ms/step - loss: 6.3408e-05 - val_loss: 5.9544e-05\n",
      "Epoch 4/100\n",
      "125/125 [==============================] - 1s 9ms/step - loss: 1.2452e-05 - val_loss: 9.6083e-07\n",
      "Epoch 5/100\n",
      "125/125 [==============================] - 1s 9ms/step - loss: 9.6953e-07 - val_loss: 1.5574e-06\n",
      "Epoch 6/100\n",
      "125/125 [==============================] - 1s 10ms/step - loss: 7.2504e-07 - val_loss: 3.9251e-07\n",
      "Epoch 7/100\n",
      "125/125 [==============================] - 1s 10ms/step - loss: 7.9691e-07 - val_loss: 3.3766e-07\n",
      "Epoch 8/100\n",
      "125/125 [==============================] - 1s 9ms/step - loss: 6.4251e-07 - val_loss: 3.4549e-06\n",
      "Epoch 9/100\n",
      "125/125 [==============================] - 1s 9ms/step - loss: 6.3858e-07 - val_loss: 5.1822e-07\n",
      "Epoch 10/100\n",
      "125/125 [==============================] - 1s 9ms/step - loss: 1.1838e-06 - val_loss: 3.2732e-07\n",
      "Epoch 11/100\n",
      "125/125 [==============================] - 1s 9ms/step - loss: 4.6225e-07 - val_loss: 5.3212e-07\n",
      "Epoch 12/100\n",
      "125/125 [==============================] - 1s 9ms/step - loss: 6.4928e-07 - val_loss: 1.2596e-06\n",
      "Epoch 13/100\n",
      "125/125 [==============================] - 1s 9ms/step - loss: 8.1091e-07 - val_loss: 1.6242e-06\n",
      "Epoch 14/100\n",
      "125/125 [==============================] - 1s 9ms/step - loss: 1.5234e-06 - val_loss: 1.3424e-06\n",
      "Epoch 15/100\n",
      "125/125 [==============================] - 1s 9ms/step - loss: 5.1904e-07 - val_loss: 5.4323e-07\n",
      "Epoch 16/100\n",
      "125/125 [==============================] - 1s 10ms/step - loss: 5.0812e-07 - val_loss: 9.9772e-07\n",
      "Epoch 17/100\n",
      "125/125 [==============================] - 1s 10ms/step - loss: 2.4468e-06 - val_loss: 1.0824e-06\n",
      "Epoch 18/100\n",
      "125/125 [==============================] - 1s 10ms/step - loss: 4.9921e-07 - val_loss: 2.3755e-07\n",
      "Epoch 19/100\n",
      "125/125 [==============================] - 1s 9ms/step - loss: 4.6416e-07 - val_loss: 3.1491e-07\n",
      "Epoch 20/100\n",
      "125/125 [==============================] - 1s 9ms/step - loss: 6.2822e-07 - val_loss: 6.2574e-07\n",
      "Epoch 21/100\n",
      "125/125 [==============================] - 1s 9ms/step - loss: 8.8570e-07 - val_loss: 6.3593e-07\n",
      "Epoch 22/100\n",
      "125/125 [==============================] - 1s 9ms/step - loss: 5.5878e-07 - val_loss: 2.8519e-07\n",
      "Epoch 23/100\n",
      "125/125 [==============================] - 1s 9ms/step - loss: 7.6414e-07 - val_loss: 1.1617e-06\n",
      "Epoch 24/100\n",
      "125/125 [==============================] - 1s 10ms/step - loss: 9.7695e-07 - val_loss: 4.2100e-06\n",
      "Epoch 25/100\n",
      "125/125 [==============================] - 1s 9ms/step - loss: 7.5101e-05 - val_loss: 7.1902e-05\n",
      "Epoch 26/100\n",
      "125/125 [==============================] - 1s 9ms/step - loss: 7.6842e-05 - val_loss: 6.6790e-05\n",
      "Epoch 27/100\n",
      "125/125 [==============================] - 1s 9ms/step - loss: 6.4883e-05 - val_loss: 7.2830e-05\n",
      "Epoch 28/100\n",
      "125/125 [==============================] - 1s 10ms/step - loss: 6.3400e-05 - val_loss: 6.0627e-05\n",
      "Epoch 29/100\n",
      "125/125 [==============================] - 1s 9ms/step - loss: 6.6325e-05 - val_loss: 6.1344e-05\n",
      "Epoch 30/100\n",
      "125/125 [==============================] - 1s 9ms/step - loss: 6.0719e-05 - val_loss: 8.3090e-05\n",
      "Epoch 31/100\n",
      "125/125 [==============================] - 1s 9ms/step - loss: 6.9614e-05 - val_loss: 6.3279e-05\n",
      "Epoch 32/100\n",
      "125/125 [==============================] - 1s 9ms/step - loss: 6.7727e-05 - val_loss: 9.5385e-05\n",
      "Epoch 33/100\n",
      "125/125 [==============================] - 1s 9ms/step - loss: 6.0805e-05 - val_loss: 6.2610e-05\n",
      "Epoch 34/100\n",
      "125/125 [==============================] - 1s 9ms/step - loss: 5.9142e-05 - val_loss: 6.0746e-05\n",
      "Epoch 35/100\n",
      "125/125 [==============================] - 1s 9ms/step - loss: 5.9363e-05 - val_loss: 6.0416e-05\n",
      "Epoch 36/100\n",
      "125/125 [==============================] - 1s 9ms/step - loss: 5.9381e-05 - val_loss: 6.1999e-05\n",
      "Epoch 37/100\n",
      "125/125 [==============================] - 1s 10ms/step - loss: 5.9012e-05 - val_loss: 6.0179e-05\n",
      "Epoch 38/100\n",
      "125/125 [==============================] - 1s 10ms/step - loss: 5.9064e-05 - val_loss: 6.1264e-05\n",
      "Epoch 39/100\n",
      "125/125 [==============================] - 1s 9ms/step - loss: 5.8746e-05 - val_loss: 6.0075e-05\n",
      "Epoch 40/100\n",
      "125/125 [==============================] - 1s 9ms/step - loss: 5.9351e-05 - val_loss: 6.0242e-05\n",
      "Epoch 41/100\n",
      "125/125 [==============================] - 1s 9ms/step - loss: 5.8794e-05 - val_loss: 5.5162e-05\n",
      "Epoch 42/100\n",
      "125/125 [==============================] - 1s 9ms/step - loss: 5.9685e-05 - val_loss: 6.0386e-05\n",
      "Epoch 43/100\n",
      "125/125 [==============================] - 1s 10ms/step - loss: 5.8967e-05 - val_loss: 5.9932e-05\n",
      "WARNING:tensorflow:From /home/tdhttt/anaconda3/envs/ml/lib/python3.6/site-packages/tensorflow/python/training/tracking/tracking.py:111: Model.state_updates (from tensorflow.python.keras.engine.training) is deprecated and will be removed in a future version.\n",
      "Instructions for updating:\n",
      "This property should not be used in TensorFlow 2.0, as updates are applied automatically.\n",
      "WARNING:tensorflow:From /home/tdhttt/anaconda3/envs/ml/lib/python3.6/site-packages/tensorflow/python/training/tracking/tracking.py:111: Layer.updates (from tensorflow.python.keras.engine.base_layer) is deprecated and will be removed in a future version.\n",
      "Instructions for updating:\n",
      "This property should not be used in TensorFlow 2.0, as updates are applied automatically.\n",
      "INFO:tensorflow:Assets written to: s2s/assets\n"
     ]
    }
   ],
   "source": [
    "model.compile(\n",
    "    optimizer=\"adam\", loss=\"mse\"\n",
    ")\n",
    "model.fit(\n",
    "    [X, Y_shifted],\n",
    "    Y,\n",
    "    batch_size=batch_size,\n",
    "    epochs=epochs,\n",
    "    validation_split=0.2,\n",
    "    callbacks=callbacks\n",
    ")\n",
    "# Save model\n",
    "model.save(\"s2s\")"
   ]
  },
  {
   "cell_type": "code",
   "execution_count": 19,
   "metadata": {},
   "outputs": [],
   "source": [
    "# Define sampling models\n",
    "# Restore the model and construct the encoder and decoder.\n",
    "model = keras.models.load_model(\"s2s\")\n",
    "\n",
    "encoder_inputs = model.input[0]  # input_1\n",
    "encoder_outputs, state_h_enc, state_c_enc = model.layers[2].output  # lstm_1\n",
    "encoder_states = [state_h_enc, state_c_enc]\n",
    "encoder_model = keras.Model(encoder_inputs, encoder_states)\n",
    "\n",
    "decoder_inputs = model.input[1]  # input_2\n",
    "decoder_state_input_h = keras.Input(shape=(latent_dim,), name=\"input_5\")\n",
    "decoder_state_input_c = keras.Input(shape=(latent_dim,), name=\"input_6\")\n",
    "decoder_states_inputs = [decoder_state_input_h, decoder_state_input_c]\n",
    "decoder_lstm = model.layers[3]\n",
    "decoder_outputs, state_h_dec, state_c_dec = decoder_lstm(\n",
    "    decoder_inputs, initial_state=decoder_states_inputs\n",
    ")\n",
    "decoder_states = [state_h_dec, state_c_dec]\n",
    "decoder_dense = model.layers[4]\n",
    "decoder_outputs = decoder_dense(decoder_outputs)\n",
    "decoder_model = keras.Model(\n",
    "    [decoder_inputs] + decoder_states_inputs, [decoder_outputs] + decoder_states\n",
    ")"
   ]
  },
  {
   "cell_type": "code",
   "execution_count": 20,
   "metadata": {},
   "outputs": [],
   "source": [
    "def decode_sequence(input_seq):\n",
    "    # Encode the input as state vectors.\n",
    "    states_value = encoder_model.predict(input_seq)\n",
    "\n",
    "    # Generate empty target sequence of length 1.\n",
    "    target_seq = np.zeros((1, 1, 1))\n",
    "    # Populate the first character of target sequence with the start character.\n",
    "    target_seq[0, 0, 0] = 0.5\n",
    "\n",
    "    # Sampling loop for a batch of sequences\n",
    "    # (to simplify, here we assume a batch of size 1).\n",
    "    stop_condition = False\n",
    "    decoded_dist = []\n",
    "    while not stop_condition:\n",
    "        output_tokens, h, c = decoder_model.predict([target_seq] + states_value)\n",
    "\n",
    "        # Sample a token\n",
    "        sampled_char = output_tokens[0,0,0]\n",
    "        print(sampled_char)\n",
    "        decoded_dist.append(sampled_char)\n",
    "\n",
    "        # Exit condition: either hit max length\n",
    "        # or find stop character.\n",
    "        if len(decoded_dist) == 60:\n",
    "        #if sampled_char == \"\\n\" or len(decoded_sentence) > max_decoder_seq_length:\n",
    "            stop_condition = True\n",
    "\n",
    "        # Update the target sequence (of length 1).\n",
    "        target_seq = np.zeros((1, 1, 1))\n",
    "        target_seq[0, 0, 0] = sampled_char\n",
    "\n",
    "        # Update states\n",
    "        states_value = [h, c]\n",
    "    return decoded_dist"
   ]
  },
  {
   "cell_type": "code",
   "execution_count": 21,
   "metadata": {},
   "outputs": [
    {
     "name": "stdout",
     "output_type": "stream",
     "text": [
      "(60,) (60,)\n",
      "(1, 60, 1) (1, 60, 1)\n"
     ]
    }
   ],
   "source": [
    "X_test,Y_test,binsc= data_gen(1.2,1.8,100000,1,f,scaled=True)\n",
    "print(X_test.shape, Y_test.shape)\n",
    "X_test = X_test.reshape(1, X_test.shape[0], 1)\n",
    "Y_test = Y_test.reshape(1, Y_test.shape[0], 1)\n",
    "print(X_test.shape, Y_test.shape)"
   ]
  },
  {
   "cell_type": "code",
   "execution_count": 22,
   "metadata": {},
   "outputs": [
    {
     "name": "stdout",
     "output_type": "stream",
     "text": [
      "0.48358\n",
      "0.2622202\n",
      "0.15237817\n",
      "0.09406231\n",
      "0.06141981\n",
      "0.042187236\n",
      "0.030285249\n",
      "0.022579908\n",
      "0.017388474\n",
      "0.013767151\n",
      "0.01116264\n",
      "0.0092369\n",
      "0.007776028\n",
      "0.006640876\n",
      "0.005739014\n",
      "0.005008042\n",
      "0.0044052126\n",
      "0.0039008046\n",
      "0.003473781\n",
      "0.003108954\n",
      "0.002795049\n",
      "0.0025234902\n",
      "0.0022875722\n",
      "0.0020819139\n",
      "0.0019021081\n",
      "0.0017444836\n",
      "0.0016059503\n",
      "0.0014838856\n",
      "0.0013760384\n",
      "0.0012805033\n",
      "0.001195631\n",
      "0.0011200169\n",
      "0.0010524541\n",
      "0.0009919107\n",
      "0.0009374982\n",
      "0.00088845845\n",
      "0.0008441368\n",
      "0.0008039698\n",
      "0.0007674778\n",
      "0.0007342426\n",
      "0.0007039029\n",
      "0.00067614485\n",
      "0.00065069925\n",
      "0.0006273268\n",
      "0.00060581975\n",
      "0.0005859975\n",
      "0.00056770165\n",
      "0.0005507916\n",
      "0.000535137\n",
      "0.00052063446\n",
      "0.00050718244\n",
      "0.00049469434\n",
      "0.0004830854\n",
      "0.0004722923\n",
      "0.00046224426\n",
      "0.00045288727\n",
      "0.00044416916\n",
      "0.00043604337\n",
      "0.0004284652\n",
      "0.0004213918\n"
     ]
    }
   ],
   "source": [
    "a = decode_sequence(X_test)"
   ]
  },
  {
   "cell_type": "code",
   "execution_count": 24,
   "metadata": {},
   "outputs": [
    {
     "data": {
      "image/png": "[encoded data removed]",
      "text/plain": [
       "<Figure size 432x288 with 1 Axes>"
      ]
     },
     "metadata": {},
     "output_type": "display_data"
    }
   ],
   "source": [
    "plt.grid()\n",
    "plt.yscale(\"log\")\n",
    "plt.scatter(binsc,X_test, s=6, label=\"sample\")\n",
    "plt.scatter(binsc,Y_test, s=6, label=\"true bin prob\")\n",
    "plt.scatter(binsc, a, s=6, label=\"predict bin prob\", c=\"red\")\n",
    "plt.legend()\n",
    "plt.show()"
   ]
  },
  {
   "cell_type": "code",
   "execution_count": null,
   "metadata": {},
   "outputs": [],
   "source": []
  }
 ],
 "metadata": {
  "kernelspec": {
   "display_name": "Python 3",
   "language": "python",
   "name": "python3"
  },
  "language_info": {
   "codemirror_mode": {
    "name": "ipython",
    "version": 3
   },
   "file_extension": ".py",
   "mimetype": "text/x-python",
   "name": "python",
   "nbconvert_exporter": "python",
   "pygments_lexer": "ipython3",
   "version": "3.6.12"
  }
 },
 "nbformat": 4,
 "nbformat_minor": 4
}
